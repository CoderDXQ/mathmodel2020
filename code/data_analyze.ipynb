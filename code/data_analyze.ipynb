{
 "cells": [
  {
   "cell_type": "code",
   "execution_count": 4,
   "metadata": {},
   "outputs": [
    {
     "name": "stdout",
     "output_type": "stream",
     "text": [
      "Collecting xlrd\n",
      "  Downloading xlrd-1.2.0-py2.py3-none-any.whl (103 kB)\n",
      "Installing collected packages: xlrd\n",
      "Successfully installed xlrd-1.2.0\n"
     ]
    }
   ],
   "source": [
    "!pip install xlrd"
   ]
  },
  {
   "cell_type": "code",
   "execution_count": 81,
   "metadata": {},
   "outputs": [
    {
     "name": "stdout",
     "output_type": "stream",
     "text": [
      "Collecting parse\n",
      "  Downloading parse-1.18.0.tar.gz (30 kB)\n",
      "Building wheels for collected packages: parse\n",
      "  Building wheel for parse (setup.py): started\n",
      "  Building wheel for parse (setup.py): finished with status 'done'\n",
      "  Created wheel for parse: filename=parse-1.18.0-py3-none-any.whl size=24138 sha256=ba8413a5cff9a7228d4fef20a692d99c25d601568fb4d85ebaf3c01cb7e7b449\n",
      "  Stored in directory: c:\\users\\14686\\appdata\\local\\pip\\cache\\wheels\\05\\d6\\62\\d7e3a31cb5ac82c57423e083738882b792a9108b30cc05f579\n",
      "Successfully built parse\n",
      "Installing collected packages: parse\n",
      "Successfully installed parse-1.18.0\n"
     ]
    }
   ],
   "source": [
    "!pip install parse"
   ]
  },
  {
   "cell_type": "code",
   "execution_count": 82,
   "metadata": {},
   "outputs": [],
   "source": [
    "import pandas as pd\n",
    "import numpy as np\n",
    "import parse"
   ]
  },
  {
   "cell_type": "code",
   "execution_count": 9,
   "metadata": {},
   "outputs": [],
   "source": [
    "df = pd.read_excel(\"附件一：325个样本数据.xlsx\", skiprows=[0, 1])"
   ]
  },
  {
   "cell_type": "code",
   "execution_count": 18,
   "metadata": {},
   "outputs": [],
   "source": [
    "columns = pd.Series(df.columns)\n",
    "columns[:2] = [\"sample_index\", \"time\"]\n",
    "df.columns = columns"
   ]
  },
  {
   "cell_type": "code",
   "execution_count": 22,
   "metadata": {},
   "outputs": [
    {
     "data": {
      "text/html": [
       "<div>\n",
       "<style scoped>\n",
       "    .dataframe tbody tr th:only-of-type {\n",
       "        vertical-align: middle;\n",
       "    }\n",
       "\n",
       "    .dataframe tbody tr th {\n",
       "        vertical-align: top;\n",
       "    }\n",
       "\n",
       "    .dataframe thead th {\n",
       "        text-align: right;\n",
       "    }\n",
       "</style>\n",
       "<table border=\"1\" class=\"dataframe\">\n",
       "  <thead>\n",
       "    <tr style=\"text-align: right;\">\n",
       "      <th></th>\n",
       "      <th>sample_index</th>\n",
       "      <th>time</th>\n",
       "      <th>硫含量,μg/g</th>\n",
       "      <th>辛烷值RON</th>\n",
       "      <th>饱和烃,v%（烷烃+环烷烃）</th>\n",
       "      <th>烯烃,v%</th>\n",
       "      <th>芳烃,v%</th>\n",
       "      <th>溴值\\n,gBr/100g</th>\n",
       "      <th>密度(20℃),\\nkg/m³</th>\n",
       "      <th>硫含量,μg/g.1</th>\n",
       "      <th>...</th>\n",
       "      <th>再生器藏量</th>\n",
       "      <th>加氢裂化轻石脑油进装置流量</th>\n",
       "      <th>汽油产品去气分流量</th>\n",
       "      <th>加氢裂化轻石脑油进装置累积流量</th>\n",
       "      <th>汽油产品去气分累积流量</th>\n",
       "      <th>8.0MPa氢气至循环氢压缩机入口</th>\n",
       "      <th>8.0MPa氢气至循环氢压缩机入口.1</th>\n",
       "      <th>8.0MPa氢气至反吹氢压缩机出口</th>\n",
       "      <th>8.0MPa氢气至反吹氢压缩机出口.1</th>\n",
       "      <th>D101原料缓冲罐压力</th>\n",
       "    </tr>\n",
       "  </thead>\n",
       "  <tbody>\n",
       "    <tr>\n",
       "      <th>0</th>\n",
       "      <td>1</td>\n",
       "      <td>2020/5/26 8:00:00</td>\n",
       "      <td>188.0</td>\n",
       "      <td>90.6</td>\n",
       "      <td>53.230000</td>\n",
       "      <td>24.400000</td>\n",
       "      <td>22.370000</td>\n",
       "      <td>61.487143</td>\n",
       "      <td>726.085714</td>\n",
       "      <td>3.2</td>\n",
       "      <td>...</td>\n",
       "      <td>2.045436</td>\n",
       "      <td>6368.74700</td>\n",
       "      <td>233.310805</td>\n",
       "      <td>83086802.0</td>\n",
       "      <td>832503.795</td>\n",
       "      <td>2216.40935</td>\n",
       "      <td>39063124.5</td>\n",
       "      <td>1840.14470</td>\n",
       "      <td>39608757.0</td>\n",
       "      <td>0.353271</td>\n",
       "    </tr>\n",
       "    <tr>\n",
       "      <th>1</th>\n",
       "      <td>2</td>\n",
       "      <td>2020/5/21 8:00:00</td>\n",
       "      <td>169.0</td>\n",
       "      <td>90.5</td>\n",
       "      <td>52.300000</td>\n",
       "      <td>26.400000</td>\n",
       "      <td>21.300000</td>\n",
       "      <td>61.880000</td>\n",
       "      <td>731.300000</td>\n",
       "      <td>3.2</td>\n",
       "      <td>...</td>\n",
       "      <td>2.025974</td>\n",
       "      <td>6360.64530</td>\n",
       "      <td>242.369205</td>\n",
       "      <td>82318954.0</td>\n",
       "      <td>803462.665</td>\n",
       "      <td>2370.58740</td>\n",
       "      <td>38810581.5</td>\n",
       "      <td>1641.73260</td>\n",
       "      <td>39389299.0</td>\n",
       "      <td>0.354504</td>\n",
       "    </tr>\n",
       "    <tr>\n",
       "      <th>2</th>\n",
       "      <td>3</td>\n",
       "      <td>2020/5/19 8:00:00</td>\n",
       "      <td>177.0</td>\n",
       "      <td>90.7</td>\n",
       "      <td>52.300000</td>\n",
       "      <td>26.314286</td>\n",
       "      <td>21.385714</td>\n",
       "      <td>61.722857</td>\n",
       "      <td>729.614286</td>\n",
       "      <td>3.2</td>\n",
       "      <td>...</td>\n",
       "      <td>1.964696</td>\n",
       "      <td>6504.96490</td>\n",
       "      <td>233.076925</td>\n",
       "      <td>82012004.0</td>\n",
       "      <td>791925.055</td>\n",
       "      <td>2326.46535</td>\n",
       "      <td>38693812.0</td>\n",
       "      <td>1600.67575</td>\n",
       "      <td>39312616.5</td>\n",
       "      <td>0.350181</td>\n",
       "    </tr>\n",
       "    <tr>\n",
       "      <th>3</th>\n",
       "      <td>4</td>\n",
       "      <td>2020/5/14 8:00:00</td>\n",
       "      <td>159.0</td>\n",
       "      <td>90.4</td>\n",
       "      <td>52.300000</td>\n",
       "      <td>26.100000</td>\n",
       "      <td>21.600000</td>\n",
       "      <td>61.330000</td>\n",
       "      <td>725.400000</td>\n",
       "      <td>3.2</td>\n",
       "      <td>...</td>\n",
       "      <td>2.039041</td>\n",
       "      <td>6506.82495</td>\n",
       "      <td>238.349935</td>\n",
       "      <td>81231373.5</td>\n",
       "      <td>762863.810</td>\n",
       "      <td>2495.22360</td>\n",
       "      <td>38410862.5</td>\n",
       "      <td>1563.71215</td>\n",
       "      <td>39120204.5</td>\n",
       "      <td>0.353930</td>\n",
       "    </tr>\n",
       "    <tr>\n",
       "      <th>4</th>\n",
       "      <td>5</td>\n",
       "      <td>2020/5/12 8:00:00</td>\n",
       "      <td>173.0</td>\n",
       "      <td>89.6</td>\n",
       "      <td>52.242857</td>\n",
       "      <td>26.671429</td>\n",
       "      <td>21.085714</td>\n",
       "      <td>61.332857</td>\n",
       "      <td>725.428571</td>\n",
       "      <td>3.2</td>\n",
       "      <td>...</td>\n",
       "      <td>1.986900</td>\n",
       "      <td>6560.24225</td>\n",
       "      <td>236.576220</td>\n",
       "      <td>80915707.5</td>\n",
       "      <td>751362.300</td>\n",
       "      <td>2807.78910</td>\n",
       "      <td>38283000.0</td>\n",
       "      <td>1554.35740</td>\n",
       "      <td>39045953.5</td>\n",
       "      <td>0.358053</td>\n",
       "    </tr>\n",
       "  </tbody>\n",
       "</table>\n",
       "<p>5 rows × 370 columns</p>\n",
       "</div>"
      ],
      "text/plain": [
       "   sample_index               time  硫含量,μg/g  辛烷值RON  饱和烃,v%（烷烃+环烷烃）  \\\n",
       "0             1  2020/5/26 8:00:00     188.0    90.6       53.230000   \n",
       "1             2  2020/5/21 8:00:00     169.0    90.5       52.300000   \n",
       "2             3  2020/5/19 8:00:00     177.0    90.7       52.300000   \n",
       "3             4  2020/5/14 8:00:00     159.0    90.4       52.300000   \n",
       "4             5  2020/5/12 8:00:00     173.0    89.6       52.242857   \n",
       "\n",
       "       烯烃,v%      芳烃,v%  溴值\\n,gBr/100g  密度(20℃),\\nkg/m³  硫含量,μg/g.1  ...  \\\n",
       "0  24.400000  22.370000      61.487143       726.085714         3.2  ...   \n",
       "1  26.400000  21.300000      61.880000       731.300000         3.2  ...   \n",
       "2  26.314286  21.385714      61.722857       729.614286         3.2  ...   \n",
       "3  26.100000  21.600000      61.330000       725.400000         3.2  ...   \n",
       "4  26.671429  21.085714      61.332857       725.428571         3.2  ...   \n",
       "\n",
       "      再生器藏量  加氢裂化轻石脑油进装置流量   汽油产品去气分流量  加氢裂化轻石脑油进装置累积流量  汽油产品去气分累积流量  \\\n",
       "0  2.045436     6368.74700  233.310805       83086802.0   832503.795   \n",
       "1  2.025974     6360.64530  242.369205       82318954.0   803462.665   \n",
       "2  1.964696     6504.96490  233.076925       82012004.0   791925.055   \n",
       "3  2.039041     6506.82495  238.349935       81231373.5   762863.810   \n",
       "4  1.986900     6560.24225  236.576220       80915707.5   751362.300   \n",
       "\n",
       "   8.0MPa氢气至循环氢压缩机入口  8.0MPa氢气至循环氢压缩机入口.1  8.0MPa氢气至反吹氢压缩机出口  \\\n",
       "0         2216.40935           39063124.5         1840.14470   \n",
       "1         2370.58740           38810581.5         1641.73260   \n",
       "2         2326.46535           38693812.0         1600.67575   \n",
       "3         2495.22360           38410862.5         1563.71215   \n",
       "4         2807.78910           38283000.0         1554.35740   \n",
       "\n",
       "   8.0MPa氢气至反吹氢压缩机出口.1  D101原料缓冲罐压力  \n",
       "0           39608757.0     0.353271  \n",
       "1           39389299.0     0.354504  \n",
       "2           39312616.5     0.350181  \n",
       "3           39120204.5     0.353930  \n",
       "4           39045953.5     0.358053  \n",
       "\n",
       "[5 rows x 370 columns]"
      ]
     },
     "execution_count": 22,
     "metadata": {},
     "output_type": "execute_result"
    }
   ],
   "source": [
    "df.head()"
   ]
  },
  {
   "cell_type": "markdown",
   "metadata": {},
   "source": [
    "## 原料性质"
   ]
  },
  {
   "cell_type": "code",
   "execution_count": 26,
   "metadata": {},
   "outputs": [
    {
     "data": {
      "text/html": [
       "<div>\n",
       "<style scoped>\n",
       "    .dataframe tbody tr th:only-of-type {\n",
       "        vertical-align: middle;\n",
       "    }\n",
       "\n",
       "    .dataframe tbody tr th {\n",
       "        vertical-align: top;\n",
       "    }\n",
       "\n",
       "    .dataframe thead th {\n",
       "        text-align: right;\n",
       "    }\n",
       "</style>\n",
       "<table border=\"1\" class=\"dataframe\">\n",
       "  <thead>\n",
       "    <tr style=\"text-align: right;\">\n",
       "      <th></th>\n",
       "      <th>硫含量,μg/g</th>\n",
       "      <th>辛烷值RON</th>\n",
       "      <th>饱和烃,v%（烷烃+环烷烃）</th>\n",
       "      <th>烯烃,v%</th>\n",
       "      <th>芳烃,v%</th>\n",
       "      <th>溴值\\n,gBr/100g</th>\n",
       "      <th>密度(20℃),\\nkg/m³</th>\n",
       "    </tr>\n",
       "  </thead>\n",
       "  <tbody>\n",
       "    <tr>\n",
       "      <th>0</th>\n",
       "      <td>188.0</td>\n",
       "      <td>90.6</td>\n",
       "      <td>53.230000</td>\n",
       "      <td>24.400000</td>\n",
       "      <td>22.370000</td>\n",
       "      <td>61.487143</td>\n",
       "      <td>726.085714</td>\n",
       "    </tr>\n",
       "    <tr>\n",
       "      <th>1</th>\n",
       "      <td>169.0</td>\n",
       "      <td>90.5</td>\n",
       "      <td>52.300000</td>\n",
       "      <td>26.400000</td>\n",
       "      <td>21.300000</td>\n",
       "      <td>61.880000</td>\n",
       "      <td>731.300000</td>\n",
       "    </tr>\n",
       "    <tr>\n",
       "      <th>2</th>\n",
       "      <td>177.0</td>\n",
       "      <td>90.7</td>\n",
       "      <td>52.300000</td>\n",
       "      <td>26.314286</td>\n",
       "      <td>21.385714</td>\n",
       "      <td>61.722857</td>\n",
       "      <td>729.614286</td>\n",
       "    </tr>\n",
       "    <tr>\n",
       "      <th>3</th>\n",
       "      <td>159.0</td>\n",
       "      <td>90.4</td>\n",
       "      <td>52.300000</td>\n",
       "      <td>26.100000</td>\n",
       "      <td>21.600000</td>\n",
       "      <td>61.330000</td>\n",
       "      <td>725.400000</td>\n",
       "    </tr>\n",
       "    <tr>\n",
       "      <th>4</th>\n",
       "      <td>173.0</td>\n",
       "      <td>89.6</td>\n",
       "      <td>52.242857</td>\n",
       "      <td>26.671429</td>\n",
       "      <td>21.085714</td>\n",
       "      <td>61.332857</td>\n",
       "      <td>725.428571</td>\n",
       "    </tr>\n",
       "  </tbody>\n",
       "</table>\n",
       "</div>"
      ],
      "text/plain": [
       "   硫含量,μg/g  辛烷值RON  饱和烃,v%（烷烃+环烷烃）      烯烃,v%      芳烃,v%  溴值\\n,gBr/100g  \\\n",
       "0     188.0    90.6       53.230000  24.400000  22.370000      61.487143   \n",
       "1     169.0    90.5       52.300000  26.400000  21.300000      61.880000   \n",
       "2     177.0    90.7       52.300000  26.314286  21.385714      61.722857   \n",
       "3     159.0    90.4       52.300000  26.100000  21.600000      61.330000   \n",
       "4     173.0    89.6       52.242857  26.671429  21.085714      61.332857   \n",
       "\n",
       "   密度(20℃),\\nkg/m³  \n",
       "0       726.085714  \n",
       "1       731.300000  \n",
       "2       729.614286  \n",
       "3       725.400000  \n",
       "4       725.428571  "
      ]
     },
     "execution_count": 26,
     "metadata": {},
     "output_type": "execute_result"
    }
   ],
   "source": [
    "df.iloc[:,2:9].head()"
   ]
  },
  {
   "cell_type": "code",
   "execution_count": 27,
   "metadata": {},
   "outputs": [
    {
     "data": {
      "text/plain": [
       "(325, 7)"
      ]
     },
     "execution_count": 27,
     "metadata": {},
     "output_type": "execute_result"
    }
   ],
   "source": [
    "df.iloc[:,2:9].shape"
   ]
  },
  {
   "cell_type": "markdown",
   "metadata": {},
   "source": [
    "## 产品性质（2标签）"
   ]
  },
  {
   "cell_type": "code",
   "execution_count": 28,
   "metadata": {},
   "outputs": [
    {
     "data": {
      "text/html": [
       "<div>\n",
       "<style scoped>\n",
       "    .dataframe tbody tr th:only-of-type {\n",
       "        vertical-align: middle;\n",
       "    }\n",
       "\n",
       "    .dataframe tbody tr th {\n",
       "        vertical-align: top;\n",
       "    }\n",
       "\n",
       "    .dataframe thead th {\n",
       "        text-align: right;\n",
       "    }\n",
       "</style>\n",
       "<table border=\"1\" class=\"dataframe\">\n",
       "  <thead>\n",
       "    <tr style=\"text-align: right;\">\n",
       "      <th></th>\n",
       "      <th>硫含量,μg/g.1</th>\n",
       "      <th>辛烷值RON.1</th>\n",
       "      <th>RON损失\\n（不是变量）</th>\n",
       "    </tr>\n",
       "  </thead>\n",
       "  <tbody>\n",
       "    <tr>\n",
       "      <th>0</th>\n",
       "      <td>3.2</td>\n",
       "      <td>89.22</td>\n",
       "      <td>1.38</td>\n",
       "    </tr>\n",
       "    <tr>\n",
       "      <th>1</th>\n",
       "      <td>3.2</td>\n",
       "      <td>89.32</td>\n",
       "      <td>1.18</td>\n",
       "    </tr>\n",
       "    <tr>\n",
       "      <th>2</th>\n",
       "      <td>3.2</td>\n",
       "      <td>89.32</td>\n",
       "      <td>1.38</td>\n",
       "    </tr>\n",
       "    <tr>\n",
       "      <th>3</th>\n",
       "      <td>3.2</td>\n",
       "      <td>89.02</td>\n",
       "      <td>1.38</td>\n",
       "    </tr>\n",
       "    <tr>\n",
       "      <th>4</th>\n",
       "      <td>3.2</td>\n",
       "      <td>88.32</td>\n",
       "      <td>1.28</td>\n",
       "    </tr>\n",
       "  </tbody>\n",
       "</table>\n",
       "</div>"
      ],
      "text/plain": [
       "   硫含量,μg/g.1  辛烷值RON.1  RON损失\\n（不是变量）\n",
       "0         3.2     89.22           1.38\n",
       "1         3.2     89.32           1.18\n",
       "2         3.2     89.32           1.38\n",
       "3         3.2     89.02           1.38\n",
       "4         3.2     88.32           1.28"
      ]
     },
     "execution_count": 28,
     "metadata": {},
     "output_type": "execute_result"
    }
   ],
   "source": [
    "df.iloc[:,9:12].head()"
   ]
  },
  {
   "cell_type": "markdown",
   "metadata": {},
   "source": [
    "## 待生吸附剂性质"
   ]
  },
  {
   "cell_type": "code",
   "execution_count": 29,
   "metadata": {},
   "outputs": [
    {
     "data": {
      "text/html": [
       "<div>\n",
       "<style scoped>\n",
       "    .dataframe tbody tr th:only-of-type {\n",
       "        vertical-align: middle;\n",
       "    }\n",
       "\n",
       "    .dataframe tbody tr th {\n",
       "        vertical-align: top;\n",
       "    }\n",
       "\n",
       "    .dataframe thead th {\n",
       "        text-align: right;\n",
       "    }\n",
       "</style>\n",
       "<table border=\"1\" class=\"dataframe\">\n",
       "  <thead>\n",
       "    <tr style=\"text-align: right;\">\n",
       "      <th></th>\n",
       "      <th>焦炭,wt%</th>\n",
       "      <th>S, wt%</th>\n",
       "    </tr>\n",
       "  </thead>\n",
       "  <tbody>\n",
       "    <tr>\n",
       "      <th>0</th>\n",
       "      <td>2.32</td>\n",
       "      <td>7.30</td>\n",
       "    </tr>\n",
       "    <tr>\n",
       "      <th>1</th>\n",
       "      <td>2.37</td>\n",
       "      <td>7.34</td>\n",
       "    </tr>\n",
       "    <tr>\n",
       "      <th>2</th>\n",
       "      <td>2.43</td>\n",
       "      <td>7.27</td>\n",
       "    </tr>\n",
       "    <tr>\n",
       "      <th>3</th>\n",
       "      <td>3.08</td>\n",
       "      <td>7.35</td>\n",
       "    </tr>\n",
       "    <tr>\n",
       "      <th>4</th>\n",
       "      <td>2.45</td>\n",
       "      <td>6.58</td>\n",
       "    </tr>\n",
       "  </tbody>\n",
       "</table>\n",
       "</div>"
      ],
      "text/plain": [
       "   焦炭,wt%  S, wt%\n",
       "0    2.32    7.30\n",
       "1    2.37    7.34\n",
       "2    2.43    7.27\n",
       "3    3.08    7.35\n",
       "4    2.45    6.58"
      ]
     },
     "execution_count": 29,
     "metadata": {},
     "output_type": "execute_result"
    }
   ],
   "source": [
    "df.iloc[:,12:14].head()"
   ]
  },
  {
   "cell_type": "markdown",
   "metadata": {},
   "source": [
    "## 再生吸附剂性质"
   ]
  },
  {
   "cell_type": "code",
   "execution_count": 30,
   "metadata": {},
   "outputs": [
    {
     "data": {
      "text/html": [
       "<div>\n",
       "<style scoped>\n",
       "    .dataframe tbody tr th:only-of-type {\n",
       "        vertical-align: middle;\n",
       "    }\n",
       "\n",
       "    .dataframe tbody tr th {\n",
       "        vertical-align: top;\n",
       "    }\n",
       "\n",
       "    .dataframe thead th {\n",
       "        text-align: right;\n",
       "    }\n",
       "</style>\n",
       "<table border=\"1\" class=\"dataframe\">\n",
       "  <thead>\n",
       "    <tr style=\"text-align: right;\">\n",
       "      <th></th>\n",
       "      <th>焦炭,wt%.1</th>\n",
       "      <th>S, wt%.1</th>\n",
       "    </tr>\n",
       "  </thead>\n",
       "  <tbody>\n",
       "    <tr>\n",
       "      <th>0</th>\n",
       "      <td>1.84</td>\n",
       "      <td>5.98</td>\n",
       "    </tr>\n",
       "    <tr>\n",
       "      <th>1</th>\n",
       "      <td>0.55</td>\n",
       "      <td>4.38</td>\n",
       "    </tr>\n",
       "    <tr>\n",
       "      <th>2</th>\n",
       "      <td>1.89</td>\n",
       "      <td>5.82</td>\n",
       "    </tr>\n",
       "    <tr>\n",
       "      <th>3</th>\n",
       "      <td>0.98</td>\n",
       "      <td>4.67</td>\n",
       "    </tr>\n",
       "    <tr>\n",
       "      <th>4</th>\n",
       "      <td>0.83</td>\n",
       "      <td>4.52</td>\n",
       "    </tr>\n",
       "  </tbody>\n",
       "</table>\n",
       "</div>"
      ],
      "text/plain": [
       "   焦炭,wt%.1  S, wt%.1\n",
       "0      1.84      5.98\n",
       "1      0.55      4.38\n",
       "2      1.89      5.82\n",
       "3      0.98      4.67\n",
       "4      0.83      4.52"
      ]
     },
     "execution_count": 30,
     "metadata": {},
     "output_type": "execute_result"
    }
   ],
   "source": [
    "df.iloc[:,14:16].head()"
   ]
  },
  {
   "cell_type": "markdown",
   "metadata": {},
   "source": [
    "## 354个操作变量"
   ]
  },
  {
   "cell_type": "code",
   "execution_count": 39,
   "metadata": {},
   "outputs": [
    {
     "data": {
      "text/html": [
       "<div>\n",
       "<style scoped>\n",
       "    .dataframe tbody tr th:only-of-type {\n",
       "        vertical-align: middle;\n",
       "    }\n",
       "\n",
       "    .dataframe tbody tr th {\n",
       "        vertical-align: top;\n",
       "    }\n",
       "\n",
       "    .dataframe thead th {\n",
       "        text-align: right;\n",
       "    }\n",
       "</style>\n",
       "<table border=\"1\" class=\"dataframe\">\n",
       "  <thead>\n",
       "    <tr style=\"text-align: right;\">\n",
       "      <th></th>\n",
       "      <th>氢油比</th>\n",
       "      <th>反应过滤器压差</th>\n",
       "      <th>还原器压力</th>\n",
       "      <th>还原器流化氢气流量</th>\n",
       "      <th>反应器上部温度</th>\n",
       "      <th>反应器底部温度</th>\n",
       "      <th>反应器顶部压力</th>\n",
       "      <th>反应器顶底压差</th>\n",
       "      <th>反应过滤器压差.1</th>\n",
       "      <th>反吹氢气温度</th>\n",
       "      <th>...</th>\n",
       "      <th>再生器藏量</th>\n",
       "      <th>加氢裂化轻石脑油进装置流量</th>\n",
       "      <th>汽油产品去气分流量</th>\n",
       "      <th>加氢裂化轻石脑油进装置累积流量</th>\n",
       "      <th>汽油产品去气分累积流量</th>\n",
       "      <th>8.0MPa氢气至循环氢压缩机入口</th>\n",
       "      <th>8.0MPa氢气至循环氢压缩机入口.1</th>\n",
       "      <th>8.0MPa氢气至反吹氢压缩机出口</th>\n",
       "      <th>8.0MPa氢气至反吹氢压缩机出口.1</th>\n",
       "      <th>D101原料缓冲罐压力</th>\n",
       "    </tr>\n",
       "  </thead>\n",
       "  <tbody>\n",
       "    <tr>\n",
       "      <th>0</th>\n",
       "      <td>0.276318</td>\n",
       "      <td>31.211968</td>\n",
       "      <td>2.526857</td>\n",
       "      <td>647.752380</td>\n",
       "      <td>424.615900</td>\n",
       "      <td>421.608145</td>\n",
       "      <td>2.393991</td>\n",
       "      <td>101.290580</td>\n",
       "      <td>33.480159</td>\n",
       "      <td>240.088445</td>\n",
       "      <td>...</td>\n",
       "      <td>2.045436</td>\n",
       "      <td>6368.74700</td>\n",
       "      <td>233.310805</td>\n",
       "      <td>83086802.00</td>\n",
       "      <td>832503.795</td>\n",
       "      <td>2.216409e+03</td>\n",
       "      <td>39063124.50</td>\n",
       "      <td>1840.14470</td>\n",
       "      <td>39608757.0</td>\n",
       "      <td>0.353271</td>\n",
       "    </tr>\n",
       "    <tr>\n",
       "      <th>1</th>\n",
       "      <td>0.277127</td>\n",
       "      <td>31.461969</td>\n",
       "      <td>2.527411</td>\n",
       "      <td>651.821920</td>\n",
       "      <td>420.953385</td>\n",
       "      <td>417.927830</td>\n",
       "      <td>2.394113</td>\n",
       "      <td>101.544925</td>\n",
       "      <td>33.324023</td>\n",
       "      <td>239.809820</td>\n",
       "      <td>...</td>\n",
       "      <td>2.025974</td>\n",
       "      <td>6360.64530</td>\n",
       "      <td>242.369205</td>\n",
       "      <td>82318954.00</td>\n",
       "      <td>803462.665</td>\n",
       "      <td>2.370587e+03</td>\n",
       "      <td>38810581.50</td>\n",
       "      <td>1641.73260</td>\n",
       "      <td>39389299.0</td>\n",
       "      <td>0.354504</td>\n",
       "    </tr>\n",
       "    <tr>\n",
       "      <th>2</th>\n",
       "      <td>0.277013</td>\n",
       "      <td>31.339998</td>\n",
       "      <td>2.528865</td>\n",
       "      <td>650.747150</td>\n",
       "      <td>423.941065</td>\n",
       "      <td>420.003515</td>\n",
       "      <td>2.394545</td>\n",
       "      <td>101.618320</td>\n",
       "      <td>33.251831</td>\n",
       "      <td>239.742695</td>\n",
       "      <td>...</td>\n",
       "      <td>1.964696</td>\n",
       "      <td>6504.96490</td>\n",
       "      <td>233.076925</td>\n",
       "      <td>82012004.00</td>\n",
       "      <td>791925.055</td>\n",
       "      <td>2.326465e+03</td>\n",
       "      <td>38693812.00</td>\n",
       "      <td>1600.67575</td>\n",
       "      <td>39312616.5</td>\n",
       "      <td>0.350181</td>\n",
       "    </tr>\n",
       "    <tr>\n",
       "      <th>3</th>\n",
       "      <td>0.277222</td>\n",
       "      <td>31.033443</td>\n",
       "      <td>2.530589</td>\n",
       "      <td>652.669055</td>\n",
       "      <td>423.722805</td>\n",
       "      <td>419.964775</td>\n",
       "      <td>2.392854</td>\n",
       "      <td>105.029760</td>\n",
       "      <td>33.197268</td>\n",
       "      <td>239.732465</td>\n",
       "      <td>...</td>\n",
       "      <td>2.039041</td>\n",
       "      <td>6506.82495</td>\n",
       "      <td>238.349935</td>\n",
       "      <td>81231373.50</td>\n",
       "      <td>762863.810</td>\n",
       "      <td>2.495224e+03</td>\n",
       "      <td>38410862.50</td>\n",
       "      <td>1563.71215</td>\n",
       "      <td>39120204.5</td>\n",
       "      <td>0.353930</td>\n",
       "    </tr>\n",
       "    <tr>\n",
       "      <th>4</th>\n",
       "      <td>0.277310</td>\n",
       "      <td>30.826894</td>\n",
       "      <td>2.530938</td>\n",
       "      <td>649.340920</td>\n",
       "      <td>427.132000</td>\n",
       "      <td>422.128935</td>\n",
       "      <td>2.392715</td>\n",
       "      <td>105.937455</td>\n",
       "      <td>32.785944</td>\n",
       "      <td>239.835635</td>\n",
       "      <td>...</td>\n",
       "      <td>1.986900</td>\n",
       "      <td>6560.24225</td>\n",
       "      <td>236.576220</td>\n",
       "      <td>80915707.50</td>\n",
       "      <td>751362.300</td>\n",
       "      <td>2.807789e+03</td>\n",
       "      <td>38283000.00</td>\n",
       "      <td>1554.35740</td>\n",
       "      <td>39045953.5</td>\n",
       "      <td>0.358053</td>\n",
       "    </tr>\n",
       "    <tr>\n",
       "      <th>...</th>\n",
       "      <td>...</td>\n",
       "      <td>...</td>\n",
       "      <td>...</td>\n",
       "      <td>...</td>\n",
       "      <td>...</td>\n",
       "      <td>...</td>\n",
       "      <td>...</td>\n",
       "      <td>...</td>\n",
       "      <td>...</td>\n",
       "      <td>...</td>\n",
       "      <td>...</td>\n",
       "      <td>...</td>\n",
       "      <td>...</td>\n",
       "      <td>...</td>\n",
       "      <td>...</td>\n",
       "      <td>...</td>\n",
       "      <td>...</td>\n",
       "      <td>...</td>\n",
       "      <td>...</td>\n",
       "      <td>...</td>\n",
       "      <td>...</td>\n",
       "    </tr>\n",
       "    <tr>\n",
       "      <th>320</th>\n",
       "      <td>0.238174</td>\n",
       "      <td>18.169647</td>\n",
       "      <td>2.392515</td>\n",
       "      <td>819.708705</td>\n",
       "      <td>424.567210</td>\n",
       "      <td>423.932695</td>\n",
       "      <td>2.299256</td>\n",
       "      <td>52.717846</td>\n",
       "      <td>1293.641175</td>\n",
       "      <td>244.986360</td>\n",
       "      <td>...</td>\n",
       "      <td>3.454565</td>\n",
       "      <td>8328.97475</td>\n",
       "      <td>150.441617</td>\n",
       "      <td>84087479.25</td>\n",
       "      <td>2136687.475</td>\n",
       "      <td>3.159956e+06</td>\n",
       "      <td>1569503.75</td>\n",
       "      <td>-7028.11670</td>\n",
       "      <td>1003276.5</td>\n",
       "      <td>-118.251152</td>\n",
       "    </tr>\n",
       "    <tr>\n",
       "      <th>321</th>\n",
       "      <td>0.239947</td>\n",
       "      <td>18.356451</td>\n",
       "      <td>2.393195</td>\n",
       "      <td>820.912883</td>\n",
       "      <td>425.062968</td>\n",
       "      <td>424.276302</td>\n",
       "      <td>2.298786</td>\n",
       "      <td>54.426241</td>\n",
       "      <td>1298.162100</td>\n",
       "      <td>244.937650</td>\n",
       "      <td>...</td>\n",
       "      <td>2.752566</td>\n",
       "      <td>8457.86080</td>\n",
       "      <td>148.748365</td>\n",
       "      <td>83687113.25</td>\n",
       "      <td>2129270.425</td>\n",
       "      <td>3.662122e+06</td>\n",
       "      <td>1521263.75</td>\n",
       "      <td>-8555.30420</td>\n",
       "      <td>879436.8</td>\n",
       "      <td>-118.764337</td>\n",
       "    </tr>\n",
       "    <tr>\n",
       "      <th>322</th>\n",
       "      <td>0.237478</td>\n",
       "      <td>18.477196</td>\n",
       "      <td>2.398691</td>\n",
       "      <td>818.246100</td>\n",
       "      <td>425.390800</td>\n",
       "      <td>424.563592</td>\n",
       "      <td>2.301724</td>\n",
       "      <td>54.764742</td>\n",
       "      <td>1304.943400</td>\n",
       "      <td>245.025612</td>\n",
       "      <td>...</td>\n",
       "      <td>2.935758</td>\n",
       "      <td>8246.20925</td>\n",
       "      <td>150.095445</td>\n",
       "      <td>83087625.75</td>\n",
       "      <td>2118469.700</td>\n",
       "      <td>4.415371e+06</td>\n",
       "      <td>1448903.75</td>\n",
       "      <td>-10846.08550</td>\n",
       "      <td>693676.8</td>\n",
       "      <td>-119.534108</td>\n",
       "    </tr>\n",
       "    <tr>\n",
       "      <th>323</th>\n",
       "      <td>0.235185</td>\n",
       "      <td>18.626541</td>\n",
       "      <td>2.394805</td>\n",
       "      <td>820.887623</td>\n",
       "      <td>426.057338</td>\n",
       "      <td>425.133608</td>\n",
       "      <td>2.296625</td>\n",
       "      <td>55.948335</td>\n",
       "      <td>1309.464275</td>\n",
       "      <td>244.818115</td>\n",
       "      <td>...</td>\n",
       "      <td>3.174031</td>\n",
       "      <td>7998.80235</td>\n",
       "      <td>149.533987</td>\n",
       "      <td>82696129.75</td>\n",
       "      <td>2110959.450</td>\n",
       "      <td>4.917538e+06</td>\n",
       "      <td>1400663.75</td>\n",
       "      <td>-12373.27275</td>\n",
       "      <td>569836.8</td>\n",
       "      <td>-120.047287</td>\n",
       "    </tr>\n",
       "    <tr>\n",
       "      <th>324</th>\n",
       "      <td>0.238883</td>\n",
       "      <td>18.426142</td>\n",
       "      <td>2.396758</td>\n",
       "      <td>821.718908</td>\n",
       "      <td>425.160278</td>\n",
       "      <td>425.046425</td>\n",
       "      <td>2.296978</td>\n",
       "      <td>57.791767</td>\n",
       "      <td>1313.985175</td>\n",
       "      <td>244.914960</td>\n",
       "      <td>...</td>\n",
       "      <td>2.642581</td>\n",
       "      <td>8379.94380</td>\n",
       "      <td>158.409230</td>\n",
       "      <td>82306629.25</td>\n",
       "      <td>2103369.350</td>\n",
       "      <td>5.419704e+06</td>\n",
       "      <td>1352423.75</td>\n",
       "      <td>-13900.46050</td>\n",
       "      <td>445996.8</td>\n",
       "      <td>-120.560472</td>\n",
       "    </tr>\n",
       "  </tbody>\n",
       "</table>\n",
       "<p>325 rows × 354 columns</p>\n",
       "</div>"
      ],
      "text/plain": [
       "          氢油比    反应过滤器压差     还原器压力   还原器流化氢气流量     反应器上部温度     反应器底部温度  \\\n",
       "0    0.276318  31.211968  2.526857  647.752380  424.615900  421.608145   \n",
       "1    0.277127  31.461969  2.527411  651.821920  420.953385  417.927830   \n",
       "2    0.277013  31.339998  2.528865  650.747150  423.941065  420.003515   \n",
       "3    0.277222  31.033443  2.530589  652.669055  423.722805  419.964775   \n",
       "4    0.277310  30.826894  2.530938  649.340920  427.132000  422.128935   \n",
       "..        ...        ...       ...         ...         ...         ...   \n",
       "320  0.238174  18.169647  2.392515  819.708705  424.567210  423.932695   \n",
       "321  0.239947  18.356451  2.393195  820.912883  425.062968  424.276302   \n",
       "322  0.237478  18.477196  2.398691  818.246100  425.390800  424.563592   \n",
       "323  0.235185  18.626541  2.394805  820.887623  426.057338  425.133608   \n",
       "324  0.238883  18.426142  2.396758  821.718908  425.160278  425.046425   \n",
       "\n",
       "      反应器顶部压力     反应器顶底压差    反应过滤器压差.1      反吹氢气温度  ...     再生器藏量  \\\n",
       "0    2.393991  101.290580    33.480159  240.088445  ...  2.045436   \n",
       "1    2.394113  101.544925    33.324023  239.809820  ...  2.025974   \n",
       "2    2.394545  101.618320    33.251831  239.742695  ...  1.964696   \n",
       "3    2.392854  105.029760    33.197268  239.732465  ...  2.039041   \n",
       "4    2.392715  105.937455    32.785944  239.835635  ...  1.986900   \n",
       "..        ...         ...          ...         ...  ...       ...   \n",
       "320  2.299256   52.717846  1293.641175  244.986360  ...  3.454565   \n",
       "321  2.298786   54.426241  1298.162100  244.937650  ...  2.752566   \n",
       "322  2.301724   54.764742  1304.943400  245.025612  ...  2.935758   \n",
       "323  2.296625   55.948335  1309.464275  244.818115  ...  3.174031   \n",
       "324  2.296978   57.791767  1313.985175  244.914960  ...  2.642581   \n",
       "\n",
       "     加氢裂化轻石脑油进装置流量   汽油产品去气分流量  加氢裂化轻石脑油进装置累积流量  汽油产品去气分累积流量  \\\n",
       "0       6368.74700  233.310805      83086802.00   832503.795   \n",
       "1       6360.64530  242.369205      82318954.00   803462.665   \n",
       "2       6504.96490  233.076925      82012004.00   791925.055   \n",
       "3       6506.82495  238.349935      81231373.50   762863.810   \n",
       "4       6560.24225  236.576220      80915707.50   751362.300   \n",
       "..             ...         ...              ...          ...   \n",
       "320     8328.97475  150.441617      84087479.25  2136687.475   \n",
       "321     8457.86080  148.748365      83687113.25  2129270.425   \n",
       "322     8246.20925  150.095445      83087625.75  2118469.700   \n",
       "323     7998.80235  149.533987      82696129.75  2110959.450   \n",
       "324     8379.94380  158.409230      82306629.25  2103369.350   \n",
       "\n",
       "     8.0MPa氢气至循环氢压缩机入口  8.0MPa氢气至循环氢压缩机入口.1  8.0MPa氢气至反吹氢压缩机出口  \\\n",
       "0         2.216409e+03          39063124.50         1840.14470   \n",
       "1         2.370587e+03          38810581.50         1641.73260   \n",
       "2         2.326465e+03          38693812.00         1600.67575   \n",
       "3         2.495224e+03          38410862.50         1563.71215   \n",
       "4         2.807789e+03          38283000.00         1554.35740   \n",
       "..                 ...                  ...                ...   \n",
       "320       3.159956e+06           1569503.75        -7028.11670   \n",
       "321       3.662122e+06           1521263.75        -8555.30420   \n",
       "322       4.415371e+06           1448903.75       -10846.08550   \n",
       "323       4.917538e+06           1400663.75       -12373.27275   \n",
       "324       5.419704e+06           1352423.75       -13900.46050   \n",
       "\n",
       "     8.0MPa氢气至反吹氢压缩机出口.1  D101原料缓冲罐压力  \n",
       "0             39608757.0     0.353271  \n",
       "1             39389299.0     0.354504  \n",
       "2             39312616.5     0.350181  \n",
       "3             39120204.5     0.353930  \n",
       "4             39045953.5     0.358053  \n",
       "..                   ...          ...  \n",
       "320            1003276.5  -118.251152  \n",
       "321             879436.8  -118.764337  \n",
       "322             693676.8  -119.534108  \n",
       "323             569836.8  -120.047287  \n",
       "324             445996.8  -120.560472  \n",
       "\n",
       "[325 rows x 354 columns]"
      ]
     },
     "execution_count": 39,
     "metadata": {},
     "output_type": "execute_result"
    }
   ],
   "source": [
    "df.iloc[:,16:]"
   ]
  },
  {
   "cell_type": "code",
   "execution_count": 43,
   "metadata": {},
   "outputs": [],
   "source": [
    "eq_0 = (df==0).sum()"
   ]
  },
  {
   "cell_type": "code",
   "execution_count": 45,
   "metadata": {},
   "outputs": [],
   "source": [
    "from collections import Counter"
   ]
  },
  {
   "cell_type": "markdown",
   "metadata": {},
   "source": [
    "每列缺失值分布情况"
   ]
  },
  {
   "cell_type": "code",
   "execution_count": 47,
   "metadata": {},
   "outputs": [
    {
     "data": {
      "text/plain": [
       "<AxesSubplot:>"
      ]
     },
     "execution_count": 47,
     "metadata": {},
     "output_type": "execute_result"
    },
    {
     "data": {
      "image/png": "[encoded data removed]",
      "text/plain": [
       "<Figure size 432x288 with 1 Axes>"
      ]
     },
     "metadata": {
      "needs_background": "light"
     },
     "output_type": "display_data"
    }
   ],
   "source": [
    "eq_0.hist()"
   ]
  },
  {
   "cell_type": "markdown",
   "metadata": {},
   "source": [
    "缺失率超过 1/6 "
   ]
  },
  {
   "cell_type": "code",
   "execution_count": 52,
   "metadata": {},
   "outputs": [
    {
     "data": {
      "text/plain": [
       "18"
      ]
     },
     "execution_count": 52,
     "metadata": {},
     "output_type": "execute_result"
    }
   ],
   "source": [
    "df.columns[eq_0>50].size"
   ]
  },
  {
   "cell_type": "code",
   "execution_count": 152,
   "metadata": {},
   "outputs": [
    {
     "data": {
      "text/plain": [
       "Index(['D105流化氢气流量', '新氢进装置流量', '轻烃出装置流量', '污油出装置', '1#催化汽油进装置流量',\n",
       "       'D121顶去放火炬流量', '再生冷氮气流量', '0.2', '新氢进装置流量.1', '0.20', 'D-109松动风流量',\n",
       "       '进料调节阀旁路流量', '紧急氢气去D-102流量', '补充氢压缩机出口返回管流量', 'EH-102加热元件/A束温度',\n",
       "       'D-201含硫污水排量'],\n",
       "      dtype='object')"
      ]
     },
     "metadata": {},
     "output_type": "display_data"
    },
    {
     "data": {
      "text/plain": [
       "16"
      ]
     },
     "execution_count": 152,
     "metadata": {},
     "output_type": "execute_result"
    }
   ],
   "source": [
    "H = 100; display(df.columns[eq_0>H]); df.columns[eq_0>H].size"
   ]
  },
  {
   "cell_type": "code",
   "execution_count": 160,
   "metadata": {},
   "outputs": [],
   "source": [
    "%matplotlib inline"
   ]
  },
  {
   "cell_type": "code",
   "execution_count": 163,
   "metadata": {},
   "outputs": [],
   "source": [
    "import pylab as plt"
   ]
  },
  {
   "cell_type": "code",
   "execution_count": 178,
   "metadata": {},
   "outputs": [
    {
     "name": "stdout",
     "output_type": "stream",
     "text": [
      "many 0 n_columns = 16\n"
     ]
    },
    {
     "data": {
      "image/png": "[encoded data removed]",
      "text/plain": [
       "<Figure size 432x288 with 2 Axes>"
      ]
     },
     "metadata": {
      "needs_background": "light"
     },
     "output_type": "display_data"
    },
    {
     "name": "stdout",
     "output_type": "stream",
     "text": [
      "D105流化氢气流量\n"
     ]
    },
    {
     "data": {
      "image/png": "[encoded data removed]",
      "text/plain": [
       "<Figure size 432x288 with 2 Axes>"
      ]
     },
     "metadata": {
      "needs_background": "light"
     },
     "output_type": "display_data"
    },
    {
     "name": "stdout",
     "output_type": "stream",
     "text": [
      "新氢进装置流量\n"
     ]
    },
    {
     "data": {
      "image/png": "[encoded data removed]",
      "text/plain": [
       "<Figure size 432x288 with 2 Axes>"
      ]
     },
     "metadata": {
      "needs_background": "light"
     },
     "output_type": "display_data"
    },
    {
     "name": "stdout",
     "output_type": "stream",
     "text": [
      "轻烃出装置流量\n"
     ]
    },
    {
     "data": {
      "image/png": "[encoded data removed]",
      "text/plain": [
       "<Figure size 432x288 with 2 Axes>"
      ]
     },
     "metadata": {
      "needs_background": "light"
     },
     "output_type": "display_data"
    },
    {
     "name": "stdout",
     "output_type": "stream",
     "text": [
      "污油出装置\n"
     ]
    },
    {
     "data": {
      "image/png": "[encoded data removed]",
      "text/plain": [
       "<Figure size 432x288 with 2 Axes>"
      ]
     },
     "metadata": {
      "needs_background": "light"
     },
     "output_type": "display_data"
    },
    {
     "name": "stdout",
     "output_type": "stream",
     "text": [
      "1#催化汽油进装置流量\n"
     ]
    },
    {
     "data": {
      "image/png": "[encoded data removed]",
      "text/plain": [
       "<Figure size 432x288 with 2 Axes>"
      ]
     },
     "metadata": {
      "needs_background": "light"
     },
     "output_type": "display_data"
    },
    {
     "name": "stdout",
     "output_type": "stream",
     "text": [
      "D121顶去放火炬流量\n"
     ]
    },
    {
     "data": {
      "image/png": "[encoded data removed]",
      "text/plain": [
       "<Figure size 432x288 with 2 Axes>"
      ]
     },
     "metadata": {
      "needs_background": "light"
     },
     "output_type": "display_data"
    },
    {
     "name": "stdout",
     "output_type": "stream",
     "text": [
      "再生冷氮气流量\n"
     ]
    },
    {
     "data": {
      "image/png": "[encoded data removed]",
      "text/plain": [
       "<Figure size 432x288 with 2 Axes>"
      ]
     },
     "metadata": {
      "needs_background": "light"
     },
     "output_type": "display_data"
    },
    {
     "name": "stdout",
     "output_type": "stream",
     "text": [
      "0.2\n"
     ]
    },
    {
     "data": {
      "image/png": "[encoded data removed]",
      "text/plain": [
       "<Figure size 432x288 with 2 Axes>"
      ]
     },
     "metadata": {
      "needs_background": "light"
     },
     "output_type": "display_data"
    },
    {
     "name": "stdout",
     "output_type": "stream",
     "text": [
      "新氢进装置流量.1\n"
     ]
    },
    {
     "data": {
      "image/png": "[encoded data removed]",
      "text/plain": [
       "<Figure size 432x288 with 2 Axes>"
      ]
     },
     "metadata": {
      "needs_background": "light"
     },
     "output_type": "display_data"
    },
    {
     "name": "stdout",
     "output_type": "stream",
     "text": [
      "0.20\n"
     ]
    },
    {
     "data": {
      "image/png": "[encoded data removed]",
      "text/plain": [
       "<Figure size 432x288 with 2 Axes>"
      ]
     },
     "metadata": {
      "needs_background": "light"
     },
     "output_type": "display_data"
    },
    {
     "name": "stdout",
     "output_type": "stream",
     "text": [
      "D-109松动风流量\n"
     ]
    },
    {
     "data": {
      "image/png": "[encoded data removed]",
      "text/plain": [
       "<Figure size 432x288 with 2 Axes>"
      ]
     },
     "metadata": {
      "needs_background": "light"
     },
     "output_type": "display_data"
    },
    {
     "name": "stdout",
     "output_type": "stream",
     "text": [
      "进料调节阀旁路流量\n"
     ]
    },
    {
     "data": {
      "image/png": "[encoded data removed]",
      "text/plain": [
       "<Figure size 432x288 with 2 Axes>"
      ]
     },
     "metadata": {
      "needs_background": "light"
     },
     "output_type": "display_data"
    },
    {
     "name": "stdout",
     "output_type": "stream",
     "text": [
      "紧急氢气去D-102流量\n"
     ]
    },
    {
     "data": {
      "image/png": "[encoded data removed]",
      "text/plain": [
       "<Figure size 432x288 with 2 Axes>"
      ]
     },
     "metadata": {
      "needs_background": "light"
     },
     "output_type": "display_data"
    },
    {
     "name": "stdout",
     "output_type": "stream",
     "text": [
      "补充氢压缩机出口返回管流量\n"
     ]
    },
    {
     "data": {
      "image/png": "[encoded data removed]",
      "text/plain": [
       "<Figure size 432x288 with 2 Axes>"
      ]
     },
     "metadata": {
      "needs_background": "light"
     },
     "output_type": "display_data"
    },
    {
     "name": "stdout",
     "output_type": "stream",
     "text": [
      "EH-102加热元件/A束温度\n"
     ]
    },
    {
     "data": {
      "image/png": "[encoded data removed]",
      "text/plain": [
       "<Figure size 432x288 with 2 Axes>"
      ]
     },
     "metadata": {
      "needs_background": "light"
     },
     "output_type": "display_data"
    },
    {
     "name": "stdout",
     "output_type": "stream",
     "text": [
      "D-201含硫污水排量\n"
     ]
    }
   ],
   "source": [
    "columns = df.columns[eq_0>H]\n",
    "print(f\"many 0 n_columns = {len(columns)}\")\n",
    "for column in columns:\n",
    "    plt.set\n",
    "    plt.subplot(1,2,1)\n",
    "    (df[column].hist())\n",
    "    plt.subplot(1,2,2)\n",
    "    plt.plot(df[column].index, df[column].tolist())\n",
    "    plt.show()\n",
    "    print(column)"
   ]
  },
  {
   "cell_type": "code",
   "execution_count": 180,
   "metadata": {},
   "outputs": [
    {
     "data": {
      "text/plain": [
       "<AxesSubplot:>"
      ]
     },
     "execution_count": 180,
     "metadata": {},
     "output_type": "execute_result"
    },
    {
     "data": {
      "image/png": "[encoded data removed]",
      "text/plain": [
       "<Figure size 432x288 with 1 Axes>"
      ]
     },
     "metadata": {
      "needs_background": "light"
     },
     "output_type": "display_data"
    }
   ],
   "source": [
    "df[\"新氢进装置流量.1\"].hist()"
   ]
  },
  {
   "cell_type": "code",
   "execution_count": 184,
   "metadata": {},
   "outputs": [
    {
     "data": {
      "text/plain": [
       "<AxesSubplot:>"
      ]
     },
     "execution_count": 184,
     "metadata": {},
     "output_type": "execute_result"
    },
    {
     "data": {
      "image/png": "[encoded data removed]",
      "text/plain": [
       "<Figure size 432x288 with 1 Axes>"
      ]
     },
     "metadata": {
      "needs_background": "light"
     },
     "output_type": "display_data"
    }
   ],
   "source": [
    "df[\"新氢进装置流量.1\"].hist()"
   ]
  },
  {
   "cell_type": "code",
   "execution_count": 169,
   "metadata": {},
   "outputs": [
    {
     "data": {
      "text/plain": [
       "(325, 354)"
      ]
     },
     "execution_count": 169,
     "metadata": {},
     "output_type": "execute_result"
    }
   ],
   "source": [
    "ops.shape"
   ]
  },
  {
   "cell_type": "code",
   "execution_count": 171,
   "metadata": {},
   "outputs": [
    {
     "data": {
      "text/plain": [
       "0"
      ]
     },
     "execution_count": 171,
     "metadata": {},
     "output_type": "execute_result"
    }
   ],
   "source": [
    "np.count_nonzero(ops.var(axis=1)==0)"
   ]
  },
  {
   "cell_type": "code",
   "execution_count": 172,
   "metadata": {},
   "outputs": [
    {
     "data": {
      "text/plain": [
       "0      2.998285e+13\n",
       "1      2.950494e+13\n",
       "2      2.931425e+13\n",
       "3      2.883619e+13\n",
       "4      2.864182e+13\n",
       "           ...     \n",
       "320    3.897797e+13\n",
       "321    3.876678e+13\n",
       "322    3.845684e+13\n",
       "323    3.825577e+13\n",
       "324    3.805968e+13\n",
       "Length: 325, dtype: float64"
      ]
     },
     "execution_count": 172,
     "metadata": {},
     "output_type": "execute_result"
    }
   ],
   "source": [
    "ops.var(axis=1)"
   ]
  },
  {
   "cell_type": "code",
   "execution_count": 176,
   "metadata": {},
   "outputs": [
    {
     "data": {
      "text/plain": [
       "[<matplotlib.lines.Line2D at 0x2442c1d7d48>]"
      ]
     },
     "execution_count": 176,
     "metadata": {},
     "output_type": "execute_result"
    },
    {
     "data": {
      "image/png": "[encoded data removed]",
      "text/plain": [
       "<Figure size 432x288 with 1 Axes>"
      ]
     },
     "metadata": {
      "needs_background": "light"
     },
     "output_type": "display_data"
    }
   ],
   "source": [
    "I=1; plt.plot(ops.iloc[:,I].index, ops.iloc[:,I].tolist())"
   ]
  },
  {
   "cell_type": "code",
   "execution_count": 57,
   "metadata": {},
   "outputs": [
    {
     "data": {
      "text/plain": [
       "Index(['D105流化氢气流量', '新氢进装置流量', '轻烃出装置流量', '污油出装置', '1#催化汽油进装置流量',\n",
       "       'D121顶去放火炬流量', '再生冷氮气流量', '0.2', '新氢进装置流量.1', '0.20', 'D-109松动风流量',\n",
       "       '进料调节阀旁路流量', '紧急氢气去D-102流量', '补充氢压缩机出口返回管流量', '闭锁料斗H2过滤器出口气流量',\n",
       "       'EH-102加热元件/A束温度', 'D-201含硫污水排量', '汽油产品去气分流量'],\n",
       "      dtype='object')"
      ]
     },
     "execution_count": 57,
     "metadata": {},
     "output_type": "execute_result"
    }
   ],
   "source": [
    "df.columns[eq_0>50]"
   ]
  },
  {
   "cell_type": "code",
   "execution_count": 133,
   "metadata": {},
   "outputs": [],
   "source": [
    "ops=df.iloc[:,16:]"
   ]
  },
  {
   "cell_type": "code",
   "execution_count": 148,
   "metadata": {},
   "outputs": [
    {
     "data": {
      "text/plain": [
       "Index(['氢油比', '稳定塔顶压力', '燃料气进装置压力', '氮气进装置压力', '非净化风进装置压力', '净化风进装置压力',\n",
       "       '原料换热器管程进出口压差', '辐射室出口压力', '加热炉主火嘴阀前压力', '再生器压力', 'D-203顶部出口管',\n",
       "       'D-124压力', 'D-123压力', 'D-122液位液位', 'D-109压力', 'D-107顶压力', 'D-107底压力',\n",
       "       'D-113压力', '精制汽油出装置线压力', '鼓风机入口压力', 'R-102下部压力', 'R-102底排放滑阀后氮气线压力',\n",
       "       'F-101长明灯线压力', 'S_ZORB AT-0005', '反应器线速'],\n",
       "      dtype='object')"
      ]
     },
     "execution_count": 148,
     "metadata": {},
     "output_type": "execute_result"
    }
   ],
   "source": [
    "ops.columns[np.var(ops.values, axis=0)<0.001]"
   ]
  },
  {
   "cell_type": "code",
   "execution_count": null,
   "metadata": {},
   "outputs": [],
   "source": []
  },
  {
   "cell_type": "code",
   "execution_count": 76,
   "metadata": {},
   "outputs": [],
   "source": [
    "d285 = pd.read_csv(\"285.csv\")"
   ]
  },
  {
   "cell_type": "code",
   "execution_count": 78,
   "metadata": {},
   "outputs": [],
   "source": [
    "op_df = pd.read_excel(\"附件四：354个操作变量信息.xlsx\")"
   ]
  },
  {
   "cell_type": "code",
   "execution_count": 80,
   "metadata": {},
   "outputs": [
    {
     "data": {
      "text/plain": [
       "0        0.20-0.37\n",
       "1            10-35\n",
       "2        2.35-2.70\n",
       "3         600-1000\n",
       "4          410-435\n",
       "          ...     \n",
       "349     60-5500000\n",
       "350     0-40000000\n",
       "351    -14000-3500\n",
       "352     0-40000000\n",
       "353       -125-0.5\n",
       "Name: 取值范围, Length: 354, dtype: object"
      ]
     },
     "execution_count": 80,
     "metadata": {},
     "output_type": "execute_result"
    }
   ],
   "source": [
    "op_df[\"取值范围\"]"
   ]
  },
  {
   "cell_type": "code",
   "execution_count": 83,
   "metadata": {},
   "outputs": [],
   "source": [
    "from parse import compile"
   ]
  },
  {
   "cell_type": "code",
   "execution_count": 84,
   "metadata": {},
   "outputs": [],
   "source": [
    "pattern = compile(\"{}-{}\")"
   ]
  },
  {
   "cell_type": "code",
   "execution_count": 92,
   "metadata": {},
   "outputs": [],
   "source": [
    "parsed=op_df[\"取值范围\"].apply(lambda x: pattern.parse(x))"
   ]
  },
  {
   "cell_type": "code",
   "execution_count": 106,
   "metadata": {},
   "outputs": [],
   "source": [
    "op_df[\"lower\"]=pd.to_numeric(parsed.apply(lambda x:eval(x[0])))"
   ]
  },
  {
   "cell_type": "code",
   "execution_count": 108,
   "metadata": {},
   "outputs": [],
   "source": [
    "op_df[\"upper\"]=pd.to_numeric(parsed.apply(lambda x:eval(x[1].replace(\"（\",\"(\").replace(\"）\",\")\"))))"
   ]
  },
  {
   "cell_type": "code",
   "execution_count": 125,
   "metadata": {},
   "outputs": [
    {
     "name": "stdout",
     "output_type": "stream",
     "text": [
      "48 40\n",
      "83 40\n",
      "110 40\n"
     ]
    }
   ],
   "source": [
    "for i in range(354):\n",
    "    logic = ~np.logical_and(d285.iloc[:,i+1]>=op_df.loc[i,\"lower\"] , d285.iloc[:,i+1]<=op_df.loc[i,\"upper\"])\n",
    "    n_invalids = (logic.sum())\n",
    "    if n_invalids>0:\n",
    "        print(i, n_invalids)"
   ]
  },
  {
   "cell_type": "code",
   "execution_count": null,
   "metadata": {},
   "outputs": [],
   "source": []
  }
 ],
 "metadata": {
  "kernelspec": {
   "display_name": "Python 3",
   "language": "python",
   "name": "python3"
  },
  "language_info": {
   "codemirror_mode": {
    "name": "ipython",
    "version": 3
   },
   "file_extension": ".py",
   "mimetype": "text/x-python",
   "name": "python",
   "nbconvert_exporter": "python",
   "pygments_lexer": "ipython3",
   "version": "3.7.7"
  }
 },
 "nbformat": 4,
 "nbformat_minor": 4
}
